{
 "cells": [
  {
   "cell_type": "markdown",
   "metadata": {},
   "source": [
    "# **Finding Lane Lines on the Road** \n",
    "***\n",
    "In this project, you will use the tools you learned about in the lesson to identify lane lines on the road.  You can develop your pipeline on a series of individual images, and later apply the result to a video stream (really just a series of images). Check out the video clip \"raw-lines-example.mp4\" (also contained in this repository) to see what the output should look like after using the helper functions below. \n",
    "\n",
    "Once you have a result that looks roughly like \"raw-lines-example.mp4\", you'll need to get creative and try to average and/or extrapolate the line segments you've detected to map out the full extent of the lane lines.  You can see an example of the result you're going for in the video \"P1_example.mp4\".  Ultimately, you would like to draw just one line for the left side of the lane, and one for the right.\n",
    "\n",
    "---\n",
    "Let's have a look at our first image called 'test_images/solidWhiteRight.jpg'.  Run the 2 cells below (hit Shift-Enter or the \"play\" button above) to display the image.\n",
    "\n",
    "**Note** If, at any point, you encounter frozen display windows or other confounding issues, you can always start again with a clean slate by going to the \"Kernel\" menu above and selecting \"Restart & Clear Output\".\n",
    "\n",
    "---"
   ]
  },
  {
   "cell_type": "markdown",
   "metadata": {},
   "source": [
    "**The tools you have are color selection, region of interest selection, grayscaling, Gaussian smoothing, Canny Edge Detection and Hough Tranform line detection.  You  are also free to explore and try other techniques that were not presented in the lesson.  Your goal is piece together a pipeline to detect the line segments in the image, then average/extrapolate them and draw them onto the image for display (as below).  Once you have a working pipeline, try it out on the video stream below.**\n",
    "\n",
    "---\n",
    "\n",
    "<figure>\n",
    " <img src=\"line-segments-example.jpg\" width=\"380\" alt=\"Combined Image\" />\n",
    " <figcaption>\n",
    " <p></p> \n",
    " <p style=\"text-align: center;\"> Your output should look something like this (above) after detecting line segments using the helper functions below </p> \n",
    " </figcaption>\n",
    "</figure>\n",
    " <p></p> \n",
    "<figure>\n",
    " <img src=\"laneLines_thirdPass.jpg\" width=\"380\" alt=\"Combined Image\" />\n",
    " <figcaption>\n",
    " <p></p> \n",
    " <p style=\"text-align: center;\"> Your goal is to connect/average/extrapolate line segments to get output like this</p> \n",
    " </figcaption>\n",
    "</figure>"
   ]
  },
  {
   "cell_type": "code",
   "execution_count": null,
   "metadata": {
    "collapsed": false
   },
   "outputs": [],
   "source": [
    "#importing some useful packages\n",
    "import matplotlib.pyplot as plt\n",
    "import matplotlib.image as mpimg\n",
    "import numpy as np\n",
    "import cv2\n",
    "%matplotlib inline"
   ]
  },
  {
   "cell_type": "code",
   "execution_count": null,
   "metadata": {
    "collapsed": false,
    "scrolled": true
   },
   "outputs": [],
   "source": [
    "#reading in an image\n",
    "image = mpimg.imread('test_images/solidWhiteRight.jpg')\n",
    "#printing out some stats and plotting\n",
    "print('This image is:', type(image), 'with dimesions:', image.shape)\n",
    "plt.imshow(image)  #call as plt.imshow(gray, cmap='gray') to show a grayscaled image"
   ]
  },
  {
   "cell_type": "markdown",
   "metadata": {},
   "source": [
    "**Some OpenCV functions (beyond those introduced in the lesson) that might be useful for this project are:**\n",
    "\n",
    "`cv2.inRange()` for color selection  \n",
    "`cv2.fillPoly()` for regions selection  \n",
    "`cv2.line()` to draw lines on an image given endpoints  \n",
    "`cv2.addWeighted()` to coadd / overlay two images\n",
    "`cv2.cvtColor()` to grayscale or change color\n",
    "`cv2.imwrite()` to output images to file  \n",
    "`cv2.bitwise_and()` to apply a mask to an image\n",
    "\n",
    "**Check out the OpenCV documentation to learn about these and discover even more awesome functionality!**"
   ]
  },
  {
   "cell_type": "markdown",
   "metadata": {},
   "source": [
    "Below are some helper functions to help get you started. They should look familiar from the lesson!"
   ]
  },
  {
   "cell_type": "code",
   "execution_count": null,
   "metadata": {
    "collapsed": false
   },
   "outputs": [],
   "source": [
    "from sklearn import linear_model\n",
    "import math\n",
    "\n",
    "def grayscale(img):\n",
    "    \"\"\"Applies the Grayscale transform\n",
    "    This will return an image with only one color channel\n",
    "    but NOTE: to see the returned image as grayscale\n",
    "    you should call plt.imshow(gray, cmap='gray')\"\"\"\n",
    "    return cv2.cvtColor(img, cv2.COLOR_BGR2GRAY)\n",
    "    \n",
    "def canny(img, low_threshold, high_threshold):\n",
    "    \"\"\"Applies the Canny transform\"\"\"\n",
    "    return cv2.Canny(img, low_threshold, high_threshold)\n",
    "\n",
    "def gaussian_blur(img, kernel_size):\n",
    "    \"\"\"Applies a Gaussian Noise kernel\"\"\"\n",
    "    return cv2.GaussianBlur(img, (kernel_size, kernel_size), 0)\n",
    "\n",
    "def region_of_interest(img, vertices):\n",
    "    \"\"\"\n",
    "    Applies an image mask.\n",
    "    \n",
    "    Only keeps the region of the image defined by the polygon\n",
    "    formed from `vertices`. The rest of the image is set to black.\n",
    "    \"\"\"\n",
    "    #defining a blank mask to start with\n",
    "    mask = np.zeros_like(img)   \n",
    "    \n",
    "    #defining a 3 channel or 1 channel color to fill the mask with depending on the input image\n",
    "    if len(img.shape) > 2:\n",
    "        channel_count = img.shape[2]  # i.e. 3 or 4 depending on your image\n",
    "        ignore_mask_color = (255,) * channel_count\n",
    "    else:\n",
    "        ignore_mask_color = 255\n",
    "        \n",
    "    #filling pixels inside the polygon defined by \"vertices\" with the fill color    \n",
    "    cv2.fillPoly(mask, vertices, ignore_mask_color)\n",
    "    \n",
    "    #returning the image only where mask pixels are nonzero\n",
    "    masked_image = cv2.bitwise_and(img, mask)\n",
    "    return masked_image\n",
    "\n",
    "\n",
    "def draw_lines(img, lines, color=[255, 0, 0], thickness=2):\n",
    "    \"\"\"\n",
    "    NOTE: this is the function you might want to use as a starting point once you want to \n",
    "    average/extrapolate the line segments you detect to map out the full\n",
    "    extent of the lane (going from the result shown in raw-lines-example.mp4\n",
    "    to that shown in P1_example.mp4).  \n",
    "    \n",
    "    Think about things like separating line segments by their \n",
    "    slope ((y2-y1)/(x2-x1)) to decide which segments are part of the left\n",
    "    line vs. the right line.  Then, you can average the position of each of \n",
    "    the lines and extrapolate to the top and bottom of the lane.\n",
    "    \n",
    "    This function draws `lines` with `color` and `thickness`.    \n",
    "    Lines are drawn on the image inplace (mutates the image).\n",
    "    If you want to make the lines semi-transparent, think about combining\n",
    "    this function with the weighted_img() function below\n",
    "    \"\"\"\n",
    "    \n",
    "    # Lets start by divinding the points belonging to\n",
    "    # the right lane from those belonging to the left lane.\n",
    "    right_x = []\n",
    "    right_y = []\n",
    "    left_x = []\n",
    "    left_y = []\n",
    "\n",
    "    offset = 50\n",
    "    img_x = img.shape[1]\n",
    "    img_y = img.shape[0]\n",
    "    vertical_boundary = int(img_x / 2)\n",
    "    for line in lines:\n",
    "        for x1,y1,x2,y2 in line:\n",
    "            # Here we make the split left/right using the\n",
    "            # apex of the ROI polygon, in this case a triangle.\n",
    "            # Color the lines according to the polygon apex,\n",
    "            # green lines on the left side of the road and\n",
    "            # red lines on the right side of the road.\n",
    "            if x1 >= vertical_boundary:\n",
    "                right_x.append(x1)\n",
    "                right_x.append(x2)\n",
    "                right_y.append(y1)\n",
    "                right_y.append(y2)\n",
    "                #print(\"Found line in (x1, y1) (x2, y2) -\", (x1, y1), (x2, y2), \" RIGHT\")\n",
    "                cv2.line(img, (x1, y1), (x2, y2), [255, 0, 0], thickness)\n",
    "            else:\n",
    "                left_x.append(x1)\n",
    "                left_x.append(x2)\n",
    "                left_y.append(y1)\n",
    "                left_y.append(y2)\n",
    "                #print(\"Found line in (x1, y1) (x2, y2) -\", (x1, y1), (x2, y2), \" LEFT\")\n",
    "                cv2.line(img, (x1, y1), (x2, y2), [0, 255, 0], thickness)\n",
    "\n",
    "    # It can happed to have an empty array therefore,\n",
    "    # before going for the Linear Regression, lets\n",
    "    # check if the array has some values.\n",
    "    if len(right_x) > 0:\n",
    "        x = np.array(right_x).reshape(-1, 1)\n",
    "        y = np.array(right_y).reshape(-1, 1)\n",
    "\n",
    "        # Linear regression for the right lane line.\n",
    "        reg = linear_model.LinearRegression().fit(x, y)\n",
    "        x_0 = np.array([int(img_x/2)]).reshape(1, -1)\n",
    "        y_0 = reg.predict(x_0)\n",
    "        x_1 = np.array([img_x-offset]).reshape(1, -1)\n",
    "        y_1 = reg.predict(x_1)\n",
    "        #print(\"RIGHT slope:     \", reg.coef_[0])\n",
    "        #print(\"RIGHT intercept: \", reg.intercept_)\n",
    "        cv2.line(img, (x_0, y_0), (x_1, y_1), [0, 0, 255], 6*thickness)\n",
    "\n",
    "    if len(left_x) > 0:\n",
    "        x = np.array(left_x).reshape(-1, 1)\n",
    "        y = np.array(left_y).reshape(-1, 1)\n",
    "\n",
    "        # Linear regression for the left lane line.\n",
    "        reg = linear_model.LinearRegression().fit(x, y)\n",
    "        x_0 = np.array([0+offset]).reshape(1, -1)\n",
    "        y_0 = reg.predict(x_0)\n",
    "        x_1 = np.array([int(img_x/2)]).reshape(1, -1)\n",
    "        y_1 = reg.predict(x_1)\n",
    "        #print(\"LEFT slope:     \", reg.coef_[0])\n",
    "        #print(\"LEFT intercept: \", reg.intercept_)\n",
    "        cv2.line(img, (x_0, y_0), (x_1, y_1), [0, 0, 255], 6*thickness)\n",
    "\n",
    "def hough_lines(img, rho, theta, threshold, min_line_len, max_line_gap):\n",
    "    \"\"\"\n",
    "    `img` should be the output of a Canny transform.\n",
    "        \n",
    "    Returns an image with hough lines drawn.\n",
    "    \"\"\"\n",
    "    lines = cv2.HoughLinesP(img, rho, theta, threshold, np.array([]), minLineLength=min_line_len, maxLineGap=max_line_gap)\n",
    "    line_img = np.zeros((*img.shape, 3), dtype=np.uint8)\n",
    "    draw_lines(line_img, lines)\n",
    "    return line_img\n",
    "\n",
    "# Python 3 has support for cool math symbols.\n",
    "\n",
    "def weighted_img(img, initial_img, α=0.8, β=1., λ=0.):\n",
    "    \"\"\"\n",
    "    `img` is the output of the hough_lines(), An image with lines drawn on it.\n",
    "    Should be a blank image (all black) with lines drawn on it.\n",
    "    \n",
    "    `initial_img` should be the image before any processing.\n",
    "    \n",
    "    The result image is computed as follows:\n",
    "    \n",
    "    initial_img * α + img * β + λ\n",
    "    NOTE: initial_img and img must be the same shape!\n",
    "    \"\"\"\n",
    "    return cv2.addWeighted(initial_img, α, img, β, λ)"
   ]
  },
  {
   "cell_type": "markdown",
   "metadata": {},
   "source": [
    "## Test on Images\n",
    "\n",
    "Now you should build your pipeline to work on the images in the directory \"test_images\"  \n",
    "**You should make sure your pipeline works well on these images before you try the videos.**"
   ]
  },
  {
   "cell_type": "code",
   "execution_count": null,
   "metadata": {
    "collapsed": false
   },
   "outputs": [],
   "source": [
    "import os\n",
    "os.listdir(\"test_images/\")"
   ]
  },
  {
   "cell_type": "code",
   "execution_count": null,
   "metadata": {
    "collapsed": false
   },
   "outputs": [],
   "source": [
    "# Here is my code\n",
    "\n",
    "# 1. Transform the image to gray scale\n",
    "def pipeline_grayscale(img):\n",
    "    return grayscale(img)\n",
    "\n",
    "gray = pipeline_grayscale(image)\n",
    "plt.imshow(gray, cmap='gray')"
   ]
  },
  {
   "cell_type": "code",
   "execution_count": null,
   "metadata": {
    "collapsed": false
   },
   "outputs": [],
   "source": [
    "# 2. Apply Canny Edge detection\n",
    "def pipeline_canny_edge(img):\n",
    "    \"\"\"Computes high_threshold using Otsu's algorithm\n",
    "    and the low_threshold as 0.5*high_threshold, then\n",
    "    applies Canny edge detection.\"\"\"\n",
    "    high_threshold, otsu_img = cv2.threshold(img, 0, 255, cv2.THRESH_BINARY+cv2.THRESH_OTSU)\n",
    "    low_threshold = 0.5 * high_threshold\n",
    "    return canny(otsu_img, low_threshold, high_threshold)\n",
    "\n",
    "edges = pipeline_canny_edge(gray)\n",
    "plt.imshow(edges, cmap='gray')"
   ]
  },
  {
   "cell_type": "code",
   "execution_count": null,
   "metadata": {
    "collapsed": false
   },
   "outputs": [],
   "source": [
    "# 3. Apply Gaussian Blur\n",
    "def pipeline_gauss(img):\n",
    "    kernel_size = 5\n",
    "    return gaussian_blur(img, kernel_size)\n",
    "\n",
    "gauss = pipeline_gauss(edges)\n",
    "plt.imshow(gauss, cmap='gray')"
   ]
  },
  {
   "cell_type": "code",
   "execution_count": null,
   "metadata": {
    "collapsed": false
   },
   "outputs": [],
   "source": [
    "# 4. Extraxt the Region Of Interest - ROI\n",
    "#    The ROI is a triangle.\n",
    "#\n",
    "#    Note: As seen in \"The Great Robot Race\" documentary,\n",
    "#    Stanley was using a 4 sides polygon which can\n",
    "#    lead to better reults that the triangle polygon.\n",
    "#    Need to be tested.\n",
    "def pipeline_roi(img):\n",
    "    offset = 60\n",
    "    img_x = img.shape[1]\n",
    "    img_y = img.shape[0]\n",
    "    img_center_x = int(img_x/2)\n",
    "    img_center_y = int(img_y/2)\n",
    "\n",
    "    apex = [img_center_x, img_center_y + offset]\n",
    "    left_bottom = [0+int(offset/2), img_y-offset]\n",
    "    right_bottom = [img_x-int(offset/2), img_y-offset]\n",
    "\n",
    "    vertices = np.array([apex, left_bottom, right_bottom])\n",
    "    return region_of_interest(img, [vertices])\n",
    "\n",
    "region = pipeline_roi(gauss)\n",
    "plt.imshow(region, cmap='gray')"
   ]
  },
  {
   "cell_type": "code",
   "execution_count": null,
   "metadata": {
    "collapsed": false
   },
   "outputs": [],
   "source": [
    "# 5. Hough Transformation\n",
    "def pipeline_hough(img):\n",
    "    rho = 1                         # distance resolution in pixels of the Hough grid\n",
    "    theta = np.pi/180               # angular resolution in radians of the Hough grid\n",
    "    threshold = 50                  # minimum number of votes (intersections in Hough grid cell)\n",
    "    min_line_len = 100              # minimum number of pixels making up a line\n",
    "    max_line_gap = 50               # maximum gap in pixels between connectable line segments\n",
    "    return hough_lines(img, rho, theta, threshold, min_line_len, max_line_gap)\n",
    "\n",
    "hough = pipeline_hough(region)\n",
    "plt.imshow(hough, cmap='gray')"
   ]
  },
  {
   "cell_type": "code",
   "execution_count": null,
   "metadata": {
    "collapsed": false
   },
   "outputs": [],
   "source": [
    "# Final step. Display the starting image with detected lines\n",
    "def pipeline_result(hough_img, original_img):\n",
    "    return weighted_img(hough_img, original_img)\n",
    "\n",
    "result = pipeline_result(hough, image)\n",
    "plt.imshow(result)"
   ]
  },
  {
   "cell_type": "markdown",
   "metadata": {},
   "source": [
    "run your solution on all test_images and make copies into the test_images directory)."
   ]
  },
  {
   "cell_type": "markdown",
   "metadata": {},
   "source": [
    "## Test on Videos\n",
    "\n",
    "You know what's cooler than drawing lanes over images? Drawing lanes over video!\n",
    "\n",
    "We can test our solution on two provided videos:\n",
    "\n",
    "`solidWhiteRight.mp4`\n",
    "\n",
    "`solidYellowLeft.mp4`"
   ]
  },
  {
   "cell_type": "code",
   "execution_count": null,
   "metadata": {
    "collapsed": false
   },
   "outputs": [],
   "source": [
    "# Import everything needed to edit/save/watch video clips\n",
    "from moviepy.editor import VideoFileClip\n",
    "from IPython.display import HTML"
   ]
  },
  {
   "cell_type": "markdown",
   "metadata": {},
   "source": [
    "## Pipeline description\n",
    "\n",
    "The pipeline used in the video processing is programmed in the `process_image` function.\n",
    "In particular the pipeline performs the following steps:\n",
    "\n",
    "  * `pipeline_grayscale` converts the original image in greyscale;\n",
    "  * `pipeline_canny_edge` performs canny edge detection to highlight the shape of the objects;\n",
    "  * `pipeline_gauss` runs a gaussian filter so to reduce the noise of the canny edged image;\n",
    "  * `pipeline_roi` selects a triangle as region of interest. Using a four sides polygon\n",
    "    can lead to better performances;\n",
    "  * `pipeline_hough` performs the Hough transformation to figure the lines position.\n",
    "    In order to have stable left/right lines, I used a linear\n",
    "    regression model. In particular I splitted the Hough transformation\n",
    "    points into two sets: left lane line and right lane line and consequently,\n",
    "    I run two separated linear regression model. The resulting lines are drawn\n",
    "    using the reg.predict() sklearn function.\n",
    "  * `pipeline_result` the final step simply overlaps the original image with the annotated image."
   ]
  },
  {
   "cell_type": "code",
   "execution_count": null,
   "metadata": {
    "collapsed": false
   },
   "outputs": [],
   "source": [
    "def process_image(img):\n",
    "    # NOTE: The output you return should be a color\n",
    "    # image (3 channel) for processing video below\n",
    "    # Your pipeline here, return the final\n",
    "    # output (image with lines are drawn on lanes)\n",
    "    gray = pipeline_grayscale(img)\n",
    "    canny = pipeline_canny_edge(gray)\n",
    "    gauss = pipeline_gauss(canny)\n",
    "    region = pipeline_roi(gauss)\n",
    "    hough = pipeline_hough(region)\n",
    "    result = pipeline_result(hough, img)\n",
    "    return result"
   ]
  },
  {
   "cell_type": "markdown",
   "metadata": {},
   "source": [
    "Let's try the one with the solid white lane on the right first ..."
   ]
  },
  {
   "cell_type": "code",
   "execution_count": null,
   "metadata": {
    "collapsed": false
   },
   "outputs": [],
   "source": [
    "white_output = 'white.mp4'\n",
    "clip1 = VideoFileClip(\"solidWhiteRight.mp4\")\n",
    "white_clip = clip1.fl_image(process_image) #NOTE: this function expects color images!!\n",
    "%time white_clip.write_videofile(white_output, audio=False)"
   ]
  },
  {
   "cell_type": "markdown",
   "metadata": {},
   "source": [
    "Play the video inline, or if you prefer find the video in your filesystem (should be in the same directory) and play it in your video player of choice."
   ]
  },
  {
   "cell_type": "code",
   "execution_count": null,
   "metadata": {
    "collapsed": false
   },
   "outputs": [],
   "source": [
    "HTML(\"\"\"\n",
    "<video width=\"960\" height=\"540\" controls>\n",
    "  <source src=\"{0}\">\n",
    "</video>\n",
    "\"\"\".format(white_output))"
   ]
  },
  {
   "cell_type": "markdown",
   "metadata": {},
   "source": [
    "**At this point, if you were successful you probably have the Hough line segments drawn onto the road, but what about identifying the full extent of the lane and marking it clearly as in the example video (P1_example.mp4)?  Think about defining a line to run the full length of the visible lane based on the line segments you identified with the Hough Transform.  Modify your draw_lines function accordingly and try re-running your pipeline.**"
   ]
  },
  {
   "cell_type": "markdown",
   "metadata": {},
   "source": [
    "Now for the one with the solid yellow lane on the left. This one's more tricky!"
   ]
  },
  {
   "cell_type": "code",
   "execution_count": null,
   "metadata": {
    "collapsed": false
   },
   "outputs": [],
   "source": [
    "yellow_output = 'yellow.mp4'\n",
    "clip2 = VideoFileClip('solidYellowLeft.mp4')\n",
    "yellow_clip = clip2.fl_image(process_image)\n",
    "%time yellow_clip.write_videofile(yellow_output, audio=False)"
   ]
  },
  {
   "cell_type": "code",
   "execution_count": null,
   "metadata": {
    "collapsed": false
   },
   "outputs": [],
   "source": [
    "HTML(\"\"\"\n",
    "<video width=\"960\" height=\"540\" controls>\n",
    "  <source src=\"{0}\">\n",
    "</video>\n",
    "\"\"\".format(yellow_output))"
   ]
  },
  {
   "cell_type": "markdown",
   "metadata": {},
   "source": [
    "## Reflections\n",
    "\n",
    "Congratulations on finding the lane lines!  As the final step in this project, we would like you to share your thoughts on your lane finding pipeline... specifically, how could you imagine making your algorithm better / more robust?  Where will your current algorithm be likely to fail?\n",
    "\n",
    "Please add your thoughts below,  and if you're up for making your pipeline more robust, be sure to scroll down and check out the optional challenge video below!\n"
   ]
  },
  {
   "cell_type": "markdown",
   "metadata": {},
   "source": [
    "## Submission\n",
    "\n",
    "If you're satisfied with your video outputs it's time to submit!  Submit this ipython notebook for review.\n"
   ]
  },
  {
   "cell_type": "markdown",
   "metadata": {
    "collapsed": true
   },
   "source": [
    "## Optional Challenge\n",
    "\n",
    "Try your lane finding pipeline on the video below.  Does it still work?  Can you figure out a way to make it more robust?  If you're up for the challenge, modify your pipeline so it works with this video and submit it along with the rest of your project!"
   ]
  },
  {
   "cell_type": "code",
   "execution_count": null,
   "metadata": {
    "collapsed": false
   },
   "outputs": [],
   "source": [
    "challenge_output = 'extra.mp4'\n",
    "clip2 = VideoFileClip('challenge.mp4')\n",
    "challenge_clip = clip2.fl_image(process_image)\n",
    "%time challenge_clip.write_videofile(challenge_output, audio=False)"
   ]
  },
  {
   "cell_type": "code",
   "execution_count": null,
   "metadata": {
    "collapsed": false
   },
   "outputs": [],
   "source": [
    "HTML(\"\"\"\n",
    "<video width=\"960\" height=\"540\" controls>\n",
    "  <source src=\"{0}\">\n",
    "</video>\n",
    "\"\"\".format(challenge_output))"
   ]
  },
  {
   "cell_type": "code",
   "execution_count": null,
   "metadata": {
    "collapsed": true
   },
   "outputs": [],
   "source": []
  }
 ],
 "metadata": {
  "anaconda-cloud": {},
  "kernelspec": {
   "display_name": "Python [conda env:sdcEnvPython3]",
   "language": "python",
   "name": "conda-env-sdcEnvPython3-py"
  },
  "language_info": {
   "codemirror_mode": {
    "name": "ipython",
    "version": 3
   },
   "file_extension": ".py",
   "mimetype": "text/x-python",
   "name": "python",
   "nbconvert_exporter": "python",
   "pygments_lexer": "ipython3",
   "version": "3.5.2"
  }
 },
 "nbformat": 4,
 "nbformat_minor": 0
}
